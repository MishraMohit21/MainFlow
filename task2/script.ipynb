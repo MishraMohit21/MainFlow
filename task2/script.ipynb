{
 "cells": [
  {
   "cell_type": "code",
   "execution_count": 40,
   "id": "4afaa5c1-a4bc-45af-91ba-7edea5aac7c7",
   "metadata": {},
   "outputs": [
    {
     "name": "stdout",
     "output_type": "stream",
     "text": [
      "Requirement already satisfied: pandas in c:\\dev\\main flow\\myenv\\lib\\site-packages (2.2.2)\n",
      "Requirement already satisfied: numpy in c:\\dev\\main flow\\myenv\\lib\\site-packages (2.0.0)\n",
      "Requirement already satisfied: scipy in c:\\dev\\main flow\\myenv\\lib\\site-packages (1.14.0)\n",
      "Requirement already satisfied: python-dateutil>=2.8.2 in c:\\dev\\main flow\\myenv\\lib\\site-packages (from pandas) (2.9.0.post0)\n",
      "Requirement already satisfied: pytz>=2020.1 in c:\\dev\\main flow\\myenv\\lib\\site-packages (from pandas) (2024.1)\n",
      "Requirement already satisfied: tzdata>=2022.7 in c:\\dev\\main flow\\myenv\\lib\\site-packages (from pandas) (2024.1)\n",
      "Requirement already satisfied: six>=1.5 in c:\\dev\\main flow\\myenv\\lib\\site-packages (from python-dateutil>=2.8.2->pandas) (1.16.0)\n"
     ]
    },
    {
     "name": "stderr",
     "output_type": "stream",
     "text": [
      "\n",
      "[notice] A new release of pip is available: 24.0 -> 24.1.2\n",
      "[notice] To update, run: python.exe -m pip install --upgrade pip\n"
     ]
    }
   ],
   "source": [
    "!pip install pandas numpy scipy"
   ]
  },
  {
   "cell_type": "code",
   "execution_count": 41,
   "id": "ba65a45f-1324-47bb-a49c-6da2320d1201",
   "metadata": {},
   "outputs": [],
   "source": [
    "import pandas as pd\n",
    "import numpy as np\n",
    "from scipy import stats\n"
   ]
  },
  {
   "cell_type": "code",
   "execution_count": 42,
   "id": "43e9a270-f75d-4cb2-9928-a5d92fc9d6fa",
   "metadata": {},
   "outputs": [],
   "source": [
    "# file_path = 'C:\\\\Users\\\\ASUS1\\\\Downloads\\\\unclean_data.csv'\n",
    "data = pd.read_csv(\"./task2/data.csv\")"
   ]
  },
  {
   "cell_type": "code",
   "execution_count": 43,
   "id": "84f4a5d8",
   "metadata": {},
   "outputs": [
    {
     "name": "stdout",
     "output_type": "stream",
     "text": [
      "Type of data: <class 'pandas.core.frame.DataFrame'>\n"
     ]
    }
   ],
   "source": [
    "print(f\"Type of data: {type(data)}\")"
   ]
  },
  {
   "cell_type": "code",
   "execution_count": 44,
   "id": "a4ab8ada",
   "metadata": {},
   "outputs": [
    {
     "name": "stdout",
     "output_type": "stream",
     "text": [
      "\n",
      "Data Info:\n",
      "<class 'pandas.core.frame.DataFrame'>\n",
      "RangeIndex: 500000 entries, 0 to 499999\n",
      "Data columns (total 12 columns):\n",
      " #   Column             Non-Null Count   Dtype \n",
      "---  ------             --------------   ----- \n",
      " 0   Index              500000 non-null  int64 \n",
      " 1   Customer Id        500000 non-null  object\n",
      " 2   First Name         500000 non-null  object\n",
      " 3   Last Name          500000 non-null  object\n",
      " 4   Company            500000 non-null  object\n",
      " 5   City               500000 non-null  object\n",
      " 6   Country            500000 non-null  object\n",
      " 7   Phone 1            500000 non-null  object\n",
      " 8   Phone 2            500000 non-null  object\n",
      " 9   Email              500000 non-null  object\n",
      " 10  Subscription Date  500000 non-null  object\n",
      " 11  Website            500000 non-null  object\n",
      "dtypes: int64(1), object(11)\n",
      "memory usage: 45.8+ MB\n",
      "None\n"
     ]
    }
   ],
   "source": [
    "print(\"\\nData Info:\")\n",
    "print(data.info())"
   ]
  },
  {
   "cell_type": "code",
   "execution_count": 45,
   "id": "a9f9ef3d",
   "metadata": {},
   "outputs": [
    {
     "name": "stdout",
     "output_type": "stream",
     "text": [
      "\n",
      "Descriptive Statistics:\n",
      "               Index\n",
      "count  500000.000000\n",
      "mean   250000.500000\n",
      "std    144337.711635\n",
      "min         1.000000\n",
      "25%    125000.750000\n",
      "50%    250000.500000\n",
      "75%    375000.250000\n",
      "max    500000.000000\n"
     ]
    }
   ],
   "source": [
    "print(\"\\nDescriptive Statistics:\")\n",
    "print(data.describe())"
   ]
  },
  {
   "cell_type": "code",
   "execution_count": 46,
   "id": "c57b11f5",
   "metadata": {},
   "outputs": [
    {
     "name": "stdout",
     "output_type": "stream",
     "text": [
      "\n",
      "Data after dropping duplicates (rows count): 500000\n"
     ]
    }
   ],
   "source": [
    "data.drop_duplicates(inplace=True)\n",
    "print(f\"\\nData after dropping duplicates (rows count): {data.shape[0]}\")"
   ]
  },
  {
   "cell_type": "code",
   "execution_count": 47,
   "id": "22e3e54d",
   "metadata": {},
   "outputs": [
    {
     "name": "stdout",
     "output_type": "stream",
     "text": [
      "\n",
      "Null values present in data (True/False):\n",
      "        Index  Customer Id  First Name  Last Name  Company   City  Country  \\\n",
      "0       False        False       False      False    False  False    False   \n",
      "1       False        False       False      False    False  False    False   \n",
      "2       False        False       False      False    False  False    False   \n",
      "3       False        False       False      False    False  False    False   \n",
      "4       False        False       False      False    False  False    False   \n",
      "...       ...          ...         ...        ...      ...    ...      ...   \n",
      "499995  False        False       False      False    False  False    False   \n",
      "499996  False        False       False      False    False  False    False   \n",
      "499997  False        False       False      False    False  False    False   \n",
      "499998  False        False       False      False    False  False    False   \n",
      "499999  False        False       False      False    False  False    False   \n",
      "\n",
      "        Phone 1  Phone 2  Email  Subscription Date  Website  \n",
      "0         False    False  False              False    False  \n",
      "1         False    False  False              False    False  \n",
      "2         False    False  False              False    False  \n",
      "3         False    False  False              False    False  \n",
      "4         False    False  False              False    False  \n",
      "...         ...      ...    ...                ...      ...  \n",
      "499995    False    False  False              False    False  \n",
      "499996    False    False  False              False    False  \n",
      "499997    False    False  False              False    False  \n",
      "499998    False    False  False              False    False  \n",
      "499999    False    False  False              False    False  \n",
      "\n",
      "[500000 rows x 12 columns]\n"
     ]
    }
   ],
   "source": [
    "null_values = data.isnull()\n",
    "print(\"\\nNull values present in data (True/False):\")\n",
    "print(null_values)"
   ]
  },
  {
   "cell_type": "code",
   "execution_count": 48,
   "id": "af6828da",
   "metadata": {},
   "outputs": [
    {
     "name": "stdout",
     "output_type": "stream",
     "text": [
      "\n",
      "Sum of null values in each column:\n",
      "Index                0\n",
      "Customer Id          0\n",
      "First Name           0\n",
      "Last Name            0\n",
      "Company              0\n",
      "City                 0\n",
      "Country              0\n",
      "Phone 1              0\n",
      "Phone 2              0\n",
      "Email                0\n",
      "Subscription Date    0\n",
      "Website              0\n",
      "dtype: int64\n"
     ]
    }
   ],
   "source": [
    "null_values_sum = data.isnull().sum()\n",
    "print(\"\\nSum of null values in each column:\")\n",
    "print(null_values_sum)"
   ]
  },
  {
   "cell_type": "code",
   "execution_count": 49,
   "id": "cbcdd47c",
   "metadata": {},
   "outputs": [
    {
     "name": "stdout",
     "output_type": "stream",
     "text": [
      "\n",
      "Total null values in the dataset: 0\n"
     ]
    }
   ],
   "source": [
    "total_null_values = null_values_sum.sum()\n",
    "print(f\"\\nTotal null values in the dataset: {total_null_values}\")"
   ]
  },
  {
   "cell_type": "code",
   "execution_count": 50,
   "id": "27625fff",
   "metadata": {},
   "outputs": [
    {
     "name": "stdout",
     "output_type": "stream",
     "text": [
      "\n",
      "Data after filling null values with 0:\n",
      "Index                0\n",
      "Customer Id          0\n",
      "First Name           0\n",
      "Last Name            0\n",
      "Company              0\n",
      "City                 0\n",
      "Country              0\n",
      "Phone 1              0\n",
      "Phone 2              0\n",
      "Email                0\n",
      "Subscription Date    0\n",
      "Website              0\n",
      "dtype: int64\n",
      "\n",
      "Data after forward filling null values:\n",
      "Index                0\n",
      "Customer Id          0\n",
      "First Name           0\n",
      "Last Name            0\n",
      "Company              0\n",
      "City                 0\n",
      "Country              0\n",
      "Phone 1              0\n",
      "Phone 2              0\n",
      "Email                0\n",
      "Subscription Date    0\n",
      "Website              0\n",
      "dtype: int64\n",
      "\n",
      "Data after backward filling null values:\n",
      "Index                0\n",
      "Customer Id          0\n",
      "First Name           0\n",
      "Last Name            0\n",
      "Company              0\n",
      "City                 0\n",
      "Country              0\n",
      "Phone 1              0\n",
      "Phone 2              0\n",
      "Email                0\n",
      "Subscription Date    0\n",
      "Website              0\n",
      "dtype: int64\n"
     ]
    }
   ],
   "source": [
    "\n",
    "data.fillna(0, inplace=True)\n",
    "print(\"\\nData after filling null values with 0:\")\n",
    "print(data.isnull().sum())\n",
    "\n",
    "\n",
    "data.ffill(inplace=True)\n",
    "print(\"\\nData after forward filling null values:\")\n",
    "print(data.isnull().sum())\n",
    "\n",
    "\n",
    "data.bfill(inplace=True)\n",
    "print(\"\\nData after backward filling null values:\")\n",
    "print(data.isnull().sum())\n"
   ]
  },
  {
   "cell_type": "code",
   "execution_count": 51,
   "id": "f97576a2",
   "metadata": {},
   "outputs": [],
   "source": [
    "numeric_data = data.select_dtypes(include=[np.number])"
   ]
  },
  {
   "cell_type": "code",
   "execution_count": 52,
   "id": "ea4de72c",
   "metadata": {},
   "outputs": [
    {
     "name": "stdout",
     "output_type": "stream",
     "text": [
      "\n",
      "IQR for each column:\n",
      "Index    249999.5\n",
      "dtype: float64\n"
     ]
    }
   ],
   "source": [
    "Q1 = numeric_data.quantile(0.25)\n",
    "Q3 = numeric_data.quantile(0.75)\n",
    "IQR = Q3 - Q1\n",
    "print(f\"\\nIQR for each column:\\n{IQR}\")"
   ]
  },
  {
   "cell_type": "code",
   "execution_count": 53,
   "id": "6126c275",
   "metadata": {},
   "outputs": [
    {
     "name": "stdout",
     "output_type": "stream",
     "text": [
      "\n",
      "Data shape after removing outliers: (500000, 1)\n"
     ]
    }
   ],
   "source": [
    "data_cleaned = numeric_data[~((numeric_data < (Q1 - 1.5 * IQR)) | (numeric_data > (Q3 + 1.5 * IQR))).any(axis=1)]\n",
    "print(f\"\\nData shape after removing outliers: {data_cleaned.shape}\")\n"
   ]
  },
  {
   "cell_type": "code",
   "execution_count": 54,
   "id": "3302bab2",
   "metadata": {},
   "outputs": [
    {
     "name": "stdout",
     "output_type": "stream",
     "text": [
      "\n",
      "Descriptive Statistics of cleaned data:\n",
      "               Index\n",
      "count  500000.000000\n",
      "mean   250000.500000\n",
      "std    144337.711635\n",
      "min         1.000000\n",
      "25%    125000.750000\n",
      "50%    250000.500000\n",
      "75%    375000.250000\n",
      "max    500000.000000\n"
     ]
    }
   ],
   "source": [
    "print(\"\\nDescriptive Statistics of cleaned data:\")\n",
    "print(data_cleaned.describe())\n"
   ]
  },
  {
   "cell_type": "code",
   "execution_count": 55,
   "id": "5267ac6a",
   "metadata": {},
   "outputs": [
    {
     "name": "stdout",
     "output_type": "stream",
     "text": [
      "\n",
      "Cleaned data saved to: cleaned_data.csv\n"
     ]
    }
   ],
   "source": [
    "cleaned_file_path = 'cleaned_data.csv' \n",
    "data_cleaned.to_csv(cleaned_file_path, index=False)\n",
    "print(f\"\\nCleaned data saved to: {cleaned_file_path}\")"
   ]
  },
  {
   "cell_type": "code",
   "execution_count": null,
   "id": "b5785d6d",
   "metadata": {},
   "outputs": [],
   "source": []
  }
 ],
 "metadata": {
  "kernelspec": {
   "display_name": "Python 3 (ipykernel)",
   "language": "python",
   "name": "python3"
  }
 },
 "nbformat": 4,
 "nbformat_minor": 5
}
